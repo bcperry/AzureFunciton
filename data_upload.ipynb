{
 "cells": [
  {
   "cell_type": "code",
   "execution_count": 30,
   "metadata": {},
   "outputs": [],
   "source": [
    "import json\n",
    "from azure.storage.blob import BlobServiceClient\n",
    " \n",
    "# Opening JSON file\n",
    "f = open('local.settings.json')\n",
    " \n",
    "# returns JSON object as \n",
    "# a dictionary\n",
    "data = json.load(f)"
   ]
  },
  {
   "cell_type": "code",
   "execution_count": 31,
   "metadata": {},
   "outputs": [],
   "source": [
    "blob_service_client = BlobServiceClient.from_connection_string(data['Values']['AzureWebJobsStorage'])\n",
    "\n",
    "with open(file='transactions.csv', mode=\"rb\") as data:\n",
    "    # print(data)\n",
    "    blob_client = blob_service_client.get_blob_client(container='bronze', blob=\"transactions.csv\")\n",
    "    blob_client = blob_client.upload_blob(data=data, overwrite=True, metadata={'test_type': 'example', 'ADSS': \"A1234\", 'data_level':'1'})"
   ]
  },
  {
   "cell_type": "code",
   "execution_count": null,
   "metadata": {},
   "outputs": [],
   "source": []
  }
 ],
 "metadata": {
  "kernelspec": {
   "display_name": ".venv",
   "language": "python",
   "name": "python3"
  },
  "language_info": {
   "codemirror_mode": {
    "name": "ipython",
    "version": 3
   },
   "file_extension": ".py",
   "mimetype": "text/x-python",
   "name": "python",
   "nbconvert_exporter": "python",
   "pygments_lexer": "ipython3",
   "version": "3.11.4"
  }
 },
 "nbformat": 4,
 "nbformat_minor": 2
}
